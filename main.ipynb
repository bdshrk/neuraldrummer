{
 "cells": [
  {
   "cell_type": "code",
   "execution_count": null,
   "metadata": {},
   "outputs": [],
   "source": [
    "import utils\n",
    "import drumset\n",
    "import tokeniser\n",
    "import model\n",
    "\n",
    "# silence mido and prettymidi warnings\n",
    "import warnings\n",
    "warnings.filterwarnings(\"ignore\")\n",
    "\n",
    "import os\n",
    "\n",
    "MIDI_DIR = os.path.join(os.getcwd(), \"midi_files\")\n",
    "BUFFER_SIZE = 9\n",
    "\n",
    "# DRUM_LOOKUP_TABLE = {\n",
    "#     35: 0,      # bass drum\n",
    "#     36: 0,      # bass drum\n",
    "#     37: 1,      # stick\n",
    "#     38: 2,      # snare\n",
    "#     40: 2,      # snare\n",
    "#     39: 3,      # clap\n",
    "#     41: 4,      # tom 0\n",
    "#     43: 5,      # tom 1\n",
    "#     45: 6,      # tom 2\n",
    "#     47: 7,      # tom 3\n",
    "#     48: 8,      # tom 4\n",
    "#     50: 9,      # tom 5\n",
    "#     42: 10,      # hh closed\n",
    "#     44: 11,      # hh pedal\n",
    "#     46: 12,      # hh open\n",
    "#     49: 13,      # crash\n",
    "#     57: 13,      # crash\n",
    "#     51: 14,      # ride 1\n",
    "#     59: 14,      # ride 2\n",
    "#     53: 15,      # ride bell\n",
    "#     55: 16,      # splash\n",
    "#     -999: 17,    # intensity (ONLY USED FOR TOKEN COUNT CALC)\n",
    "# }\n",
    "\n",
    "DRUM_LOOKUP_TABLE = {\n",
    "    35: 0,      # bass drum\n",
    "    36: 0,      # bass drum\n",
    "    38: 1,      # snare\n",
    "    40: 1,      # snare\n",
    "    42: 2,      # hh closed\n",
    "    44: 2,      # hh pedal\n",
    "    46: 3,      # hh open\n",
    "    49: 4,      # crash\n",
    "    57: 4,      # crash\n",
    "    51: 5,      # ride 1\n",
    "    59: 5,      # ride 2\n",
    "    55: 4,      # splash\n",
    "    -999: 6,    # intensity (ONLY USED FOR TOKEN COUNT CALC)\n",
    "}\n",
    "\n",
    "TOKEN_COUNT = len(set(DRUM_LOOKUP_TABLE.values()))\n",
    "\n",
    "print(\"There are \" + str(TOKEN_COUNT) + \" tokens.\")"
   ]
  },
  {
   "cell_type": "code",
   "execution_count": null,
   "metadata": {},
   "outputs": [],
   "source": [
    "FILE_PATH = \"saved.txt\"\n",
    "USE_SAVED_FILE = True\n",
    "FILES_TO_PROCESS = -1\n",
    "\n",
    "if not USE_SAVED_FILE:\n",
    "    tokeniser.tokenize_drums(FILES_TO_PROCESS, MIDI_DIR)\n",
    "\n",
    "inputs = tokeniser.load_inputs_from_file(FILE_PATH, BUFFER_SIZE)\n",
    "\n",
    "print(\"Total size: \" + str(len(inputs)))"
   ]
  },
  {
   "cell_type": "code",
   "execution_count": null,
   "metadata": {},
   "outputs": [],
   "source": [
    "batch_size = 50\n",
    "\n",
    "dataset = drumset.DrumSetSequence(inputs, batch_size, BUFFER_SIZE, TOKEN_COUNT, DRUM_LOOKUP_TABLE)"
   ]
  },
  {
   "cell_type": "code",
   "execution_count": null,
   "metadata": {},
   "outputs": [],
   "source": [
    "nn = model.Model(dataset, BUFFER_SIZE, TOKEN_COUNT, batch_size, DRUM_LOOKUP_TABLE)"
   ]
  },
  {
   "cell_type": "code",
   "execution_count": null,
   "metadata": {},
   "outputs": [],
   "source": [
    "nn.load()"
   ]
  },
  {
   "cell_type": "code",
   "execution_count": null,
   "metadata": {},
   "outputs": [],
   "source": [
    "nn.train(10)"
   ]
  },
  {
   "cell_type": "code",
   "execution_count": null,
   "metadata": {},
   "outputs": [],
   "source": [
    "nn.save()"
   ]
  },
  {
   "cell_type": "code",
   "execution_count": null,
   "metadata": {},
   "outputs": [],
   "source": [
    "nn.plot()"
   ]
  },
  {
   "cell_type": "code",
   "execution_count": null,
   "metadata": {},
   "outputs": [],
   "source": [
    "INPUT_PATH = os.path.join(MIDI_DIR, \"Electric_Light_Orchestra/Telephone_Line.mid\")\n",
    "\n",
    "chain = tokeniser.add_drum_track(\n",
    "    nn,\n",
    "    BUFFER_SIZE,\n",
    "    TOKEN_COUNT,\n",
    "    DRUM_LOOKUP_TABLE,\n",
    "    INPUT_PATH,\n",
    "    # utils.generate_random_input(BUFFER_SIZE, TOKEN_COUNT),\n",
    "    utils.generate_basic_drums(BUFFER_SIZE, TOKEN_COUNT),\n",
    "    # utils.generate_count_in(BUFFER_SIZE, TOKEN_COUNT),\n",
    "    # utils.generate_blank_input(BUFFER_SIZE, TOKEN_COUNT),\n",
    "    cutoff=0.2\n",
    ")\n",
    "\n",
    "tokeniser.remove_drum_track(INPUT_PATH)\n",
    "tokeniser.append_drum_track(\"temp.mid\", chain)\n",
    "utils.clean_temp()"
   ]
  }
 ],
 "metadata": {
  "kernelspec": {
   "display_name": "Python 3",
   "language": "python",
   "name": "python3"
  },
  "language_info": {
   "codemirror_mode": {
    "name": "ipython",
    "version": 3
   },
   "file_extension": ".py",
   "mimetype": "text/x-python",
   "name": "python",
   "nbconvert_exporter": "python",
   "pygments_lexer": "ipython3",
   "version": "3.10.6"
  },
  "orig_nbformat": 4
 },
 "nbformat": 4,
 "nbformat_minor": 2
}
